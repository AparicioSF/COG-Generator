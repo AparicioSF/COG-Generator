{
 "cells": [
  {
   "cell_type": "markdown",
   "id": "03f8af74-9c67-4b2d-91d3-49317cfbbece",
   "metadata": {},
   "source": [
    "# Convert NETCDF files to COG format (GTIF)\n",
    "A Cloud Optimized GeoTIFF (COG) is a regular GeoTIFF file, aimed at being hosted on a HTTP file server, with an internal organization that enables more efficient workflows on the cloud. It does this by leveraging the ability of clients issuing ​HTTP GET range requests to ask for just the parts of a file they need.\n",
    "\n",
    "This notebook converst a file and convert it to COG **using gdal-python on a notebook** and also has the instructions to make the conversion **using gdal on command window** .  "
   ]
  },
  {
   "cell_type": "markdown",
   "id": "667eb4bf-7c9f-47c2-8a12-b738aacf0291",
   "metadata": {},
   "source": [
    "# 0. Libraries"
   ]
  },
  {
   "cell_type": "code",
   "execution_count": null,
   "id": "53e98a87-78cb-41f7-a65b-b3199243be6d",
   "metadata": {},
   "outputs": [],
   "source": [
    "import rioxarray as rio\n",
    "import xarray as xr\n",
    "from pyproj import CRS\n",
    "from affine import Affine\n",
    "import rasterio\n",
    "import netCDF4\n",
    "import matplotlib\n",
    "import glob\n",
    "from osgeo import gdal\n",
    "from osgeo import gdal\n",
    "import datetime\n",
    "%matplotlib inline"
   ]
  },
  {
   "cell_type": "code",
   "execution_count": null,
   "id": "f7753494-e7ff-4a69-8ba8-ab90e9f0088b",
   "metadata": {},
   "outputs": [],
   "source": [
    "# Uncomment to find out full path\n",
    "!pwd"
   ]
  },
  {
   "cell_type": "markdown",
   "id": "113b1c86-7bb9-44ae-91f8-f5c807eaae6a",
   "metadata": {},
   "source": [
    "# 1. Create the name of files based on its time\n",
    "Each band of the NC file corresponds to an acquisition of every 30 minutes, and that time is in UNIX format on its name. Since the final COG files should have the time stamp in dd-mm-yyyy format, this cell generates a list with the correspondent timestamp to be used for the naming of each output COG file."
   ]
  },
  {
   "cell_type": "code",
   "execution_count": null,
   "id": "bc1bfb20-9465-4032-95de-9264f892968e",
   "metadata": {},
   "outputs": [],
   "source": [
    "# OPEN MULTIPLE DATASETS FROM ONE FOLDER  #################################################################################\n",
    "# OPEN MULTIPLE DATASETS (TO DO:Create list with all files inside the path ending with *.tif and pass the loop below for each elment of this list\n",
    "\n",
    "######### SELECT HERE WHICH FOLDER TO COVERT! ####################\n",
    "ds = list(glob.glob(\"LOOP/*.nc\")) \n",
    "#for xds in ds:\n",
    "ds   "
   ]
  },
  {
   "cell_type": "code",
   "execution_count": null,
   "id": "96609b78-e9f1-48b5-8306-184ce34baa2b",
   "metadata": {},
   "outputs": [],
   "source": [
    "dates = []\n",
    "for i in range(0,len(ds)):\n",
    "    xds = xr.open_dataset(ds[i])\n",
    "    \n",
    "# The time in this file is in UNIX format and needs to be changed to timestamp\n",
    "# Creates a list with the dates associated to each band of the netcdf\n",
    "    listOfTime = xds.time\n",
    "    for i in listOfTime:\n",
    "        unixToDatetime = datetime.datetime.fromtimestamp(i) # Unix Time\n",
    "        dates.append(str(unixToDatetime))\n",
    "\n",
    "#Umcomment to see result\n",
    "#print(dates)"
   ]
  },
  {
   "cell_type": "code",
   "execution_count": null,
   "id": "94522deb-01c7-4c1f-9f37-61dccefab99d",
   "metadata": {},
   "outputs": [],
   "source": [
    "# Re-writting the dates to become the format \"yyyymmddThh_mm_ssZ_gtif_uibk_ffp_values\"\n",
    "test_list = dates\n",
    "char = '-'\n",
    "char2 = \":\"\n",
    "char3 = \" \"\n",
    "# Remove character from Strings list\n",
    "# using loop + replace() + enumerate()\n",
    "for idx, ele in enumerate(test_list):\n",
    "        test_list[idx] = ele.replace(char, '')\n",
    "        \n",
    "for idx, ele in enumerate(test_list):\n",
    "        test_list[idx] = ele.replace(char2, '')\n",
    "\n",
    "for idx, ele in enumerate(test_list):\n",
    "        test_list[idx] = ele.replace(char3, 'T')\n",
    "\n",
    "#Umcomment to see result\n",
    "print(test_list[0:5])"
   ]
  },
  {
   "cell_type": "code",
   "execution_count": null,
   "id": "28ca8aab-1f34-4e81-baae-e57cde9b6e89",
   "metadata": {},
   "outputs": [],
   "source": [
    "# Convert it to a pandas dataframe\n",
    "import pandas as pd\n",
    "test_list = [item + 'Z_gtif_uibk_ffp_values' for item in test_list]\n",
    "\n",
    "#Uncomment to see result\n",
    "#test_list[0:5]"
   ]
  },
  {
   "cell_type": "code",
   "execution_count": null,
   "id": "93016906-7e9d-4d9a-a7a3-0293a2557a2d",
   "metadata": {},
   "outputs": [],
   "source": [
    "df = pd.DataFrame(test_list)\n",
    "#df['band']=range(48)\n",
    "#df['band']=df['band']+1\n",
    "\n",
    "# Uncomment to see the names of files, and head and tail of the df\n",
    "#df\n",
    "print('Total number of of files to be generated:', len(df))\n",
    "#df.head()\n",
    "#df.tail()"
   ]
  },
  {
   "cell_type": "markdown",
   "id": "2cad50bc-0581-4295-b136-4fed4f943e26",
   "metadata": {},
   "source": [
    "## 2. Converts netcdf file to TIF -> Reprojects -> Coverts to COG \n",
    "- Extracts the **ffp_value** and creates a ffp_value tif for each of the 48 bands\n",
    "- The orginal gdal script on the command window to convert a NETCDF to TIFF is:\n",
    "-- **gdal_translate -of GTiff NETCDF:\"input.nc\":ffp_values -b 1 output.tif -a_srs EPSG:4326 -a_ullr 11.379291 47.268726 11.392094 47.259460**\n",
    "- The original gdal script on the command window to reproject a TIFF is:\n",
    "- - **gdalwarp -t_srs EPSG:3857 input.tif output.tif**\n",
    "- The original gdal script on the command window to convert a TIFF to COG is:\n",
    "-- **gdal_translate input.tif output.tif -of COG -co COMPRESS=LZW**\n",
    "- On python API this would be:\n",
    "-- **ds = gdal.Translate('output.tif', 'input.tif', options=\"-of GTiff -co COMPRESS=LZW\")**"
   ]
  },
  {
   "cell_type": "code",
   "execution_count": null,
   "id": "576187c9-a9aa-4494-952b-62f63cce7791",
   "metadata": {},
   "outputs": [],
   "source": [
    "i = 0\n",
    "df.iloc[i][0] "
   ]
  },
  {
   "cell_type": "code",
   "execution_count": null,
   "id": "db616f6f-038c-4a7e-a243-8e3a7b685acf",
   "metadata": {},
   "outputs": [],
   "source": [
    "#Settings for the conversion to TIFF\n",
    "projection = '-a_srs EPSG:4326 '\n",
    "output_format = ' -of GTiff'\n",
    "#Settings for the conversion to COG\n",
    "compression =  ' -co COMPRESS=LZW'\n",
    "output_format2 = ' -of COG'\n",
    "\n",
    "# Loops through the list of path to each ncfile\n",
    "for i in range(0,len(ds)):\n",
    "\n",
    "# Define path name where netcdf is\n",
    "    old_name = ds[i]\n",
    "    # Name of the varialbe to be extracted\n",
    "    var_name = 'ffp_values'\n",
    "    # Writes the netcdf with selected varialbe in the format to be used/read for the gdal translate\n",
    "    sublayername =  gdal.Open('NETCDF:\"{0}\":{1}'.format(old_name, var_name ),gdal.GA_ReadOnly)\n",
    "\n",
    "# Making a loop through all the future names of the files\n",
    "    for i in range(0,len(df)):\n",
    "    \n",
    "        #Creates the output name where each band/TIF file will be stored\n",
    "        outname = old_name[0:5] + df.iloc[i][0] + 'Intermediate.tif'\n",
    "        #print('\\n Verifying if outputname is correct. The output name is: ',outname)\n",
    "            \n",
    "        for e in range(1,48):\n",
    "        # Defines that band (this is one of the settings to convert to TIF)\n",
    "            band = ' -b '+str(e)\n",
    "    \n",
    "            # SAVES EACH BAND OF NC FILE TO TIFF #################################################################################################\n",
    "            # Performs the GDAL translate to the band \n",
    "            translateOptionText = projection + output_format + band +' -a_ullr '  + str(11.379291) + ' ' + str(47.268726) + ' ' + str(11.392094) + ' ' + str(47.259460)\n",
    "            #print('\\n Verifying if the command is correct. The command is: ', translateOptionText) \n",
    "            translateOptions = gdal.TranslateOptions(gdal.ParseCommandLine(translateOptionText))\n",
    "            gdal.Translate(outname,sublayername,options = translateOptions)\n",
    "print('INTERMEDIATE DONE')\n",
    "for i in range(0,len(df)):\n",
    "\n",
    "        # REPROJECTING TO ESPG: 3857 ############################################################################################\n",
    "        old_name[0:5]\n",
    "        inname =  old_name[0:5] + df.iloc[i][0] + 'Intermediate.tif'\n",
    "        outname = old_name[0:5] + df.iloc[i][0] + 'Reprojected.tif'\n",
    "        #print(\"Confirming Output file name is:\", outname)\n",
    "        #print(\"Confirming Input file name is :\", inname)\n",
    "        ds = gdal.Warp(outname, inname, dstSRS='EPSG:3857')\n",
    "        del ds\n",
    "    \n",
    "        # CONVERTST REPROJECTED TIF TO COG ######################################################################################\n",
    "        inname2 =  old_name[0:5] + df.iloc[i][0] + 'Reprojected.tif'\n",
    "        outname2 = old_name[0:5] + df.iloc[i][0] + '.tif'\n",
    "        #print(\"Confirming Output file name is:\", outname)\n",
    "        #print(\"Confirming Input file name is :\", inname)\n",
    "        ds = gdal.Translate(outname2, inname2, options=\" -of COG -co COMPRESS=LZW\")\n",
    "        del ds\n",
    "print(\"ALL DONE!\")"
   ]
  },
  {
   "cell_type": "code",
   "execution_count": null,
   "id": "77e84d38-4733-4993-8f0f-1653b5e5f474",
   "metadata": {},
   "outputs": [],
   "source": []
  },
  {
   "cell_type": "markdown",
   "id": "8033077a-48ce-4ef9-a146-7397bfa5920e",
   "metadata": {},
   "source": [
    "## 2.5 Visualization of COG result"
   ]
  },
  {
   "cell_type": "code",
   "execution_count": 10,
   "id": "da2619e4-2ba8-465d-8dc0-1ecbbcc5503d",
   "metadata": {},
   "outputs": [
    {
     "name": "stdout",
     "output_type": "stream",
     "text": [
      "2028/20220116T203000Z_gtif_uibk_ffp_values.tif\n"
     ]
    },
    {
     "data": {
      "text/plain": [
       "<matplotlib.colorbar.Colorbar at 0x7f7305560af0>"
      ]
     },
     "execution_count": 10,
     "metadata": {},
     "output_type": "execute_result"
    },
    {
     "data": {
      "image/png": "[encoded data removed]",
      "text/plain": [
       "<Figure size 720x720 with 2 Axes>"
      ]
     },
     "metadata": {
      "needs_background": "light"
     },
     "output_type": "display_data"
    }
   ],
   "source": [
    "# Some bands have no info for exampple: 21, 9, 23, 24, 38, 42\n",
    "#import matplotlib.pyplot as plt\n",
    "\n",
    "# CHANGE HERE THE VALUE BETWEEN 1 TO 48 TO VISUALIZAE THE DIFFERENT BANDS\n",
    "#i = 5\n",
    "#path to the file\n",
    "#fn = old_name[0:5] + df.iloc[i][0] + '.tif'\n",
    "#print(fn)\n",
    "#ds = gdal.Open(fn)\n",
    "\n",
    "# Read raster data\n",
    "#data_array = ds.GetRasterBand(1).ReadAsArray()\n",
    "#data_array.shape\n",
    "#plt.figure(figsize=(10, 10))\n",
    "#plt.imshow(data_array)\n",
    "#plt.colorbar()"
   ]
  },
  {
   "cell_type": "code",
   "execution_count": null,
   "id": "ccb85634-42fa-4b4a-aad5-f220af116db9",
   "metadata": {},
   "outputs": [],
   "source": [
    "# ANOTHER WAY OF DOING THE LAST CONVERSION TO COG\n",
    "\n",
    "# Writes the netcdf with selected varialbe in the format to be used/read for the gdal translate\n",
    "#sublayername =  gdal.Open('NETCDF:\"{0}\":{1}'.format(old_name, var_name ),gdal.GA_ReadOnly)\n",
    "\n",
    "\n",
    "# Making a loop through all the bands that go from 1 to 48 (which is the leng of the dataframe containing their names)\n",
    "#Settings for the conversion to COG\n",
    "#compression =  ' -co COMPRESS=LZW'\n",
    "#output_format2 = ' -of COG'\n",
    "#for i in range(1,len(df)):\n",
    "\n",
    "\n",
    "    #Creates the output name where each TIF file will be stored\n",
    "    #outname = old_name[0:5] + df.iloc[i][0] + '.tif'\n",
    "    #inname =  old_name[0:5] + df.iloc[i][0] + 'Reprojected.tif'\n",
    "    #outname = old_name.replace('gtif_uibk_20201101.nc','') + df.iloc[i][0] + '.tif'\n",
    "    #print('\\n Verifying if outputname is correct. The output name is: ',outname)\n",
    "    #print('\\Verifying input name is correct. Inptu name is:', inname)\n",
    "    # Performs the GDAL translate to the band \n",
    "    #translateOptionText = output_format2 + compression \n",
    "    #print('\\n Verifying if the command is correct. The command is: ', translateOptionText) \n",
    "    #translateOptions = gdal.TranslateOptions(gdal.ParseCommandLine(translateOptionText))\n",
    "    #gdal.Translate(outname,inname,options = translateOptions)"
   ]
  },
  {
   "cell_type": "code",
   "execution_count": null,
   "id": "0df25e2d-2d94-4ce9-8f41-48dd7499f107",
   "metadata": {},
   "outputs": [],
   "source": []
  }
 ],
 "metadata": {
  "kernelspec": {
   "display_name": "Python [conda env:edc-default-2022.07-00]",
   "language": "python",
   "name": "conda-env-edc-default-2022.07-00-py"
  },
  "language_info": {
   "codemirror_mode": {
    "name": "ipython",
    "version": 3
   },
   "file_extension": ".py",
   "mimetype": "text/x-python",
   "name": "python",
   "nbconvert_exporter": "python",
   "pygments_lexer": "ipython3",
   "version": "3.9.13"
  }
 },
 "nbformat": 4,
 "nbformat_minor": 5
}
